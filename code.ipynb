{
 "cells": [
  {
   "cell_type": "markdown",
   "id": "28b9376f",
   "metadata": {},
   "source": [
    "1) Load data — memuat dataset\n",
    "\n",
    "Tujuan: baca file ke DataFrame supaya bisa dianalisis."
   ]
  },
  {
   "cell_type": "code",
   "execution_count": null,
   "id": "4550851f",
   "metadata": {},
   "outputs": [],
   "source": [
    "import pandas as pd\n",
    "\n",
    "# CSV lokal\n",
    "df = pd.read_csv(\"Ecommerce_Data_2024-2025.csv\")\n",
    "# df sebagai Data Frame\n"
   ]
  },
  {
   "cell_type": "markdown",
   "id": "13d229e6",
   "metadata": {},
   "source": [
    "2) Basic information about the dataset\n",
    "\n",
    "Cek ukuran, kolom, tipe data, ringkasan statistik.\n",
    "\n",
    "df.shape                       # (baris, kolom)\n",
    "df.columns.tolist()            # nama kolom\n",
    "df.info()                      # tipe data & non-null count\n",
    "df.head()                      # 5 baris pertama\n",
    "df.describe(include='all').T   # ringkasan statistik\n",
    "df.sample(5)                   # contoh baris acak\n",
    "df.memory_usage(deep=True)     # optimasi memori.\n",
    "\n",
    "Berikut Penerapannya :"
   ]
  },
  {
   "cell_type": "code",
   "execution_count": null,
   "id": "7edda1d9",
   "metadata": {},
   "outputs": [
    {
     "data": {
      "text/plain": [
       "(5000, 14)"
      ]
     },
     "execution_count": 10,
     "metadata": {},
     "output_type": "execute_result"
    }
   ],
   "source": [
    "# Contoh df.shape\n",
    "import pandas as pd\n",
    "df = pd.read_csv(\"Ecommerce_Data_2024-2025.csv\")\n",
    "\n",
    "df.shape"
   ]
  },
  {
   "cell_type": "code",
   "execution_count": null,
   "id": "06632f5b",
   "metadata": {},
   "outputs": [
    {
     "data": {
      "text/plain": [
       "['Order ID',\n",
       " 'Order Date',\n",
       " 'Customer Name',\n",
       " 'Region',\n",
       " 'City',\n",
       " 'Category',\n",
       " 'Sub-Category',\n",
       " 'Product Name',\n",
       " 'Quantity',\n",
       " 'Unit Price',\n",
       " 'Discount',\n",
       " 'Sales',\n",
       " 'Profit',\n",
       " 'Payment Mode']"
      ]
     },
     "execution_count": 11,
     "metadata": {},
     "output_type": "execute_result"
    }
   ],
   "source": [
    "# Contoh df.column.tolist()\n",
    "import pandas as pd\n",
    "df = pd.read_csv(\"Ecommerce_Data_2024-2025.csv\")\n",
    "df.columns.tolist()"
   ]
  },
  {
   "cell_type": "code",
   "execution_count": null,
   "id": "2f6d1b9e",
   "metadata": {},
   "outputs": [
    {
     "data": {
      "text/plain": [
       "<bound method DataFrame.info of       Order ID  Order Date      Customer Name Region       City     Category  \\\n",
       "0        10001  2024-10-19       Kashvi Varty  South  Bangalore        Books   \n",
       "1        10002  2025-08-30        Advik Desai  North      Delhi    Groceries   \n",
       "2        10003  2023-11-04         Rhea Kalla   East      Patna      Kitchen   \n",
       "3        10004  2025-05-23          Anika Sen   East    Kolkata    Groceries   \n",
       "4        10005  2025-01-19        Akarsh Kaul   West       Pune     Clothing   \n",
       "...        ...         ...                ...    ...        ...          ...   \n",
       "4995     14996  2024-06-25   Nishith Kulkarni   East    Kolkata        Books   \n",
       "4996     14997  2024-12-22      Aaina Chander  North     Jaipur         Toys   \n",
       "4997     14998  2025-04-15       Dhanush Gara  South  Bangalore       Beauty   \n",
       "4998     14999  2024-07-08  Divyansh Malhotra   East    Kolkata  Electronics   \n",
       "4999     15000  2024-02-04       Aarush Walla   West        Goa     Clothing   \n",
       "\n",
       "     Sub-Category         Product Name  Quantity  Unit Price  Discount  \\\n",
       "0     Non-Fiction    Non-Fiction Ipsum         2       36294         5   \n",
       "1            Rice            Rice Nemo         1       42165        20   \n",
       "2          Juicer          Juicer Odio         4       64876        20   \n",
       "3             Oil        Oil Doloribus         5       37320        15   \n",
       "4       Kids Wear        Kids Wear Quo         1       50037        10   \n",
       "...           ...                  ...       ...         ...       ...   \n",
       "4995      Fiction    Fiction Veritatis         3       60671         0   \n",
       "4996         Doll           Doll Nulla         5       70048         0   \n",
       "4997     Lipstick       Lipstick Eaque         1       42162        15   \n",
       "4998   Smartwatch  Smartwatch Adipisci         4       13568        10   \n",
       "4999    Kids Wear   Kids Wear Repellat         1       76762        10   \n",
       "\n",
       "         Sales    Profit Payment Mode  \n",
       "0      68958.6  10525.09   Debit Card  \n",
       "1      33732.0   6299.66   Debit Card  \n",
       "2     207603.2  19850.27  Credit Card  \n",
       "3     158610.0  36311.02          UPI  \n",
       "4      45033.3   9050.04   Debit Card  \n",
       "...        ...       ...          ...  \n",
       "4995  182013.0  11853.15   Debit Card  \n",
       "4996  350240.0  31237.23  Credit Card  \n",
       "4997   35837.7   7827.50   Debit Card  \n",
       "4998   48844.8   6603.86  Credit Card  \n",
       "4999   69085.8   5785.85  Net Banking  \n",
       "\n",
       "[5000 rows x 14 columns]>"
      ]
     },
     "execution_count": 12,
     "metadata": {},
     "output_type": "execute_result"
    }
   ],
   "source": [
    "# Contoh df.info\n",
    "import pandas as pd\n",
    "df = pd.read_csv(\"Ecommerce_Data_2024-2025.csv\")\n",
    "\n",
    "df.info"
   ]
  },
  {
   "cell_type": "code",
   "execution_count": null,
   "id": "be3d0259",
   "metadata": {},
   "outputs": [
    {
     "data": {
      "text/html": [
       "<div>\n",
       "<style scoped>\n",
       "    .dataframe tbody tr th:only-of-type {\n",
       "        vertical-align: middle;\n",
       "    }\n",
       "\n",
       "    .dataframe tbody tr th {\n",
       "        vertical-align: top;\n",
       "    }\n",
       "\n",
       "    .dataframe thead th {\n",
       "        text-align: right;\n",
       "    }\n",
       "</style>\n",
       "<table border=\"1\" class=\"dataframe\">\n",
       "  <thead>\n",
       "    <tr style=\"text-align: right;\">\n",
       "      <th></th>\n",
       "      <th>Order ID</th>\n",
       "      <th>Order Date</th>\n",
       "      <th>Customer Name</th>\n",
       "      <th>Region</th>\n",
       "      <th>City</th>\n",
       "      <th>Category</th>\n",
       "      <th>Sub-Category</th>\n",
       "      <th>Product Name</th>\n",
       "      <th>Quantity</th>\n",
       "      <th>Unit Price</th>\n",
       "      <th>Discount</th>\n",
       "      <th>Sales</th>\n",
       "      <th>Profit</th>\n",
       "      <th>Payment Mode</th>\n",
       "    </tr>\n",
       "  </thead>\n",
       "  <tbody>\n",
       "    <tr>\n",
       "      <th>0</th>\n",
       "      <td>10001</td>\n",
       "      <td>2024-10-19</td>\n",
       "      <td>Kashvi Varty</td>\n",
       "      <td>South</td>\n",
       "      <td>Bangalore</td>\n",
       "      <td>Books</td>\n",
       "      <td>Non-Fiction</td>\n",
       "      <td>Non-Fiction Ipsum</td>\n",
       "      <td>2</td>\n",
       "      <td>36294</td>\n",
       "      <td>5</td>\n",
       "      <td>68958.6</td>\n",
       "      <td>10525.09</td>\n",
       "      <td>Debit Card</td>\n",
       "    </tr>\n",
       "    <tr>\n",
       "      <th>1</th>\n",
       "      <td>10002</td>\n",
       "      <td>2025-08-30</td>\n",
       "      <td>Advik Desai</td>\n",
       "      <td>North</td>\n",
       "      <td>Delhi</td>\n",
       "      <td>Groceries</td>\n",
       "      <td>Rice</td>\n",
       "      <td>Rice Nemo</td>\n",
       "      <td>1</td>\n",
       "      <td>42165</td>\n",
       "      <td>20</td>\n",
       "      <td>33732.0</td>\n",
       "      <td>6299.66</td>\n",
       "      <td>Debit Card</td>\n",
       "    </tr>\n",
       "    <tr>\n",
       "      <th>2</th>\n",
       "      <td>10003</td>\n",
       "      <td>2023-11-04</td>\n",
       "      <td>Rhea Kalla</td>\n",
       "      <td>East</td>\n",
       "      <td>Patna</td>\n",
       "      <td>Kitchen</td>\n",
       "      <td>Juicer</td>\n",
       "      <td>Juicer Odio</td>\n",
       "      <td>4</td>\n",
       "      <td>64876</td>\n",
       "      <td>20</td>\n",
       "      <td>207603.2</td>\n",
       "      <td>19850.27</td>\n",
       "      <td>Credit Card</td>\n",
       "    </tr>\n",
       "    <tr>\n",
       "      <th>3</th>\n",
       "      <td>10004</td>\n",
       "      <td>2025-05-23</td>\n",
       "      <td>Anika Sen</td>\n",
       "      <td>East</td>\n",
       "      <td>Kolkata</td>\n",
       "      <td>Groceries</td>\n",
       "      <td>Oil</td>\n",
       "      <td>Oil Doloribus</td>\n",
       "      <td>5</td>\n",
       "      <td>37320</td>\n",
       "      <td>15</td>\n",
       "      <td>158610.0</td>\n",
       "      <td>36311.02</td>\n",
       "      <td>UPI</td>\n",
       "    </tr>\n",
       "    <tr>\n",
       "      <th>4</th>\n",
       "      <td>10005</td>\n",
       "      <td>2025-01-19</td>\n",
       "      <td>Akarsh Kaul</td>\n",
       "      <td>West</td>\n",
       "      <td>Pune</td>\n",
       "      <td>Clothing</td>\n",
       "      <td>Kids Wear</td>\n",
       "      <td>Kids Wear Quo</td>\n",
       "      <td>1</td>\n",
       "      <td>50037</td>\n",
       "      <td>10</td>\n",
       "      <td>45033.3</td>\n",
       "      <td>9050.04</td>\n",
       "      <td>Debit Card</td>\n",
       "    </tr>\n",
       "  </tbody>\n",
       "</table>\n",
       "</div>"
      ],
      "text/plain": [
       "   Order ID  Order Date Customer Name Region       City   Category  \\\n",
       "0     10001  2024-10-19  Kashvi Varty  South  Bangalore      Books   \n",
       "1     10002  2025-08-30   Advik Desai  North      Delhi  Groceries   \n",
       "2     10003  2023-11-04    Rhea Kalla   East      Patna    Kitchen   \n",
       "3     10004  2025-05-23     Anika Sen   East    Kolkata  Groceries   \n",
       "4     10005  2025-01-19   Akarsh Kaul   West       Pune   Clothing   \n",
       "\n",
       "  Sub-Category       Product Name  Quantity  Unit Price  Discount     Sales  \\\n",
       "0  Non-Fiction  Non-Fiction Ipsum         2       36294         5   68958.6   \n",
       "1         Rice          Rice Nemo         1       42165        20   33732.0   \n",
       "2       Juicer        Juicer Odio         4       64876        20  207603.2   \n",
       "3          Oil      Oil Doloribus         5       37320        15  158610.0   \n",
       "4    Kids Wear      Kids Wear Quo         1       50037        10   45033.3   \n",
       "\n",
       "     Profit Payment Mode  \n",
       "0  10525.09   Debit Card  \n",
       "1   6299.66   Debit Card  \n",
       "2  19850.27  Credit Card  \n",
       "3  36311.02          UPI  \n",
       "4   9050.04   Debit Card  "
      ]
     },
     "execution_count": 13,
     "metadata": {},
     "output_type": "execute_result"
    }
   ],
   "source": [
    "# Contoh df.head\n",
    "import pandas as pd\n",
    "df = pd.read_csv(\"Ecommerce_Data_2024-2025.csv\")\n",
    "df.head()"
   ]
  },
  {
   "cell_type": "code",
   "execution_count": null,
   "id": "311d6e51",
   "metadata": {},
   "outputs": [
    {
     "data": {
      "text/html": [
       "<div>\n",
       "<style scoped>\n",
       "    .dataframe tbody tr th:only-of-type {\n",
       "        vertical-align: middle;\n",
       "    }\n",
       "\n",
       "    .dataframe tbody tr th {\n",
       "        vertical-align: top;\n",
       "    }\n",
       "\n",
       "    .dataframe thead th {\n",
       "        text-align: right;\n",
       "    }\n",
       "</style>\n",
       "<table border=\"1\" class=\"dataframe\">\n",
       "  <thead>\n",
       "    <tr style=\"text-align: right;\">\n",
       "      <th></th>\n",
       "      <th>count</th>\n",
       "      <th>unique</th>\n",
       "      <th>top</th>\n",
       "      <th>freq</th>\n",
       "      <th>mean</th>\n",
       "      <th>std</th>\n",
       "      <th>min</th>\n",
       "      <th>25%</th>\n",
       "      <th>50%</th>\n",
       "      <th>75%</th>\n",
       "      <th>max</th>\n",
       "    </tr>\n",
       "  </thead>\n",
       "  <tbody>\n",
       "    <tr>\n",
       "      <th>Order ID</th>\n",
       "      <td>5000.0</td>\n",
       "      <td>NaN</td>\n",
       "      <td>NaN</td>\n",
       "      <td>NaN</td>\n",
       "      <td>12500.5</td>\n",
       "      <td>1443.520003</td>\n",
       "      <td>10001.0</td>\n",
       "      <td>11250.75</td>\n",
       "      <td>12500.5</td>\n",
       "      <td>13750.25</td>\n",
       "      <td>15000.0</td>\n",
       "    </tr>\n",
       "    <tr>\n",
       "      <th>Order Date</th>\n",
       "      <td>5000</td>\n",
       "      <td>730</td>\n",
       "      <td>2025-09-15</td>\n",
       "      <td>15</td>\n",
       "      <td>NaN</td>\n",
       "      <td>NaN</td>\n",
       "      <td>NaN</td>\n",
       "      <td>NaN</td>\n",
       "      <td>NaN</td>\n",
       "      <td>NaN</td>\n",
       "      <td>NaN</td>\n",
       "    </tr>\n",
       "    <tr>\n",
       "      <th>Customer Name</th>\n",
       "      <td>5000</td>\n",
       "      <td>4844</td>\n",
       "      <td>Aaryahi Madan</td>\n",
       "      <td>3</td>\n",
       "      <td>NaN</td>\n",
       "      <td>NaN</td>\n",
       "      <td>NaN</td>\n",
       "      <td>NaN</td>\n",
       "      <td>NaN</td>\n",
       "      <td>NaN</td>\n",
       "      <td>NaN</td>\n",
       "    </tr>\n",
       "    <tr>\n",
       "      <th>Region</th>\n",
       "      <td>5000</td>\n",
       "      <td>4</td>\n",
       "      <td>North</td>\n",
       "      <td>1288</td>\n",
       "      <td>NaN</td>\n",
       "      <td>NaN</td>\n",
       "      <td>NaN</td>\n",
       "      <td>NaN</td>\n",
       "      <td>NaN</td>\n",
       "      <td>NaN</td>\n",
       "      <td>NaN</td>\n",
       "    </tr>\n",
       "    <tr>\n",
       "      <th>City</th>\n",
       "      <td>5000</td>\n",
       "      <td>20</td>\n",
       "      <td>Guwahati</td>\n",
       "      <td>293</td>\n",
       "      <td>NaN</td>\n",
       "      <td>NaN</td>\n",
       "      <td>NaN</td>\n",
       "      <td>NaN</td>\n",
       "      <td>NaN</td>\n",
       "      <td>NaN</td>\n",
       "      <td>NaN</td>\n",
       "    </tr>\n",
       "    <tr>\n",
       "      <th>Category</th>\n",
       "      <td>5000</td>\n",
       "      <td>10</td>\n",
       "      <td>Books</td>\n",
       "      <td>528</td>\n",
       "      <td>NaN</td>\n",
       "      <td>NaN</td>\n",
       "      <td>NaN</td>\n",
       "      <td>NaN</td>\n",
       "      <td>NaN</td>\n",
       "      <td>NaN</td>\n",
       "      <td>NaN</td>\n",
       "    </tr>\n",
       "    <tr>\n",
       "      <th>Sub-Category</th>\n",
       "      <td>5000</td>\n",
       "      <td>50</td>\n",
       "      <td>Sofa</td>\n",
       "      <td>122</td>\n",
       "      <td>NaN</td>\n",
       "      <td>NaN</td>\n",
       "      <td>NaN</td>\n",
       "      <td>NaN</td>\n",
       "      <td>NaN</td>\n",
       "      <td>NaN</td>\n",
       "      <td>NaN</td>\n",
       "    </tr>\n",
       "    <tr>\n",
       "      <th>Product Name</th>\n",
       "      <td>5000</td>\n",
       "      <td>3835</td>\n",
       "      <td>Chair Adipisci</td>\n",
       "      <td>5</td>\n",
       "      <td>NaN</td>\n",
       "      <td>NaN</td>\n",
       "      <td>NaN</td>\n",
       "      <td>NaN</td>\n",
       "      <td>NaN</td>\n",
       "      <td>NaN</td>\n",
       "      <td>NaN</td>\n",
       "    </tr>\n",
       "    <tr>\n",
       "      <th>Quantity</th>\n",
       "      <td>5000.0</td>\n",
       "      <td>NaN</td>\n",
       "      <td>NaN</td>\n",
       "      <td>NaN</td>\n",
       "      <td>2.9926</td>\n",
       "      <td>1.413133</td>\n",
       "      <td>1.0</td>\n",
       "      <td>2.0</td>\n",
       "      <td>3.0</td>\n",
       "      <td>4.0</td>\n",
       "      <td>5.0</td>\n",
       "    </tr>\n",
       "    <tr>\n",
       "      <th>Unit Price</th>\n",
       "      <td>5000.0</td>\n",
       "      <td>NaN</td>\n",
       "      <td>NaN</td>\n",
       "      <td>NaN</td>\n",
       "      <td>39760.9046</td>\n",
       "      <td>22831.783946</td>\n",
       "      <td>222.0</td>\n",
       "      <td>20312.25</td>\n",
       "      <td>39459.5</td>\n",
       "      <td>59721.75</td>\n",
       "      <td>79998.0</td>\n",
       "    </tr>\n",
       "    <tr>\n",
       "      <th>Discount</th>\n",
       "      <td>5000.0</td>\n",
       "      <td>NaN</td>\n",
       "      <td>NaN</td>\n",
       "      <td>NaN</td>\n",
       "      <td>10.051</td>\n",
       "      <td>7.084662</td>\n",
       "      <td>0.0</td>\n",
       "      <td>5.0</td>\n",
       "      <td>10.0</td>\n",
       "      <td>15.0</td>\n",
       "      <td>20.0</td>\n",
       "    </tr>\n",
       "    <tr>\n",
       "      <th>Sales</th>\n",
       "      <td>5000.0</td>\n",
       "      <td>NaN</td>\n",
       "      <td>NaN</td>\n",
       "      <td>NaN</td>\n",
       "      <td>106733.20487</td>\n",
       "      <td>85108.208202</td>\n",
       "      <td>264.1</td>\n",
       "      <td>39766.5375</td>\n",
       "      <td>83080.325</td>\n",
       "      <td>156968.5875</td>\n",
       "      <td>398485.0</td>\n",
       "    </tr>\n",
       "    <tr>\n",
       "      <th>Profit</th>\n",
       "      <td>5000.0</td>\n",
       "      <td>NaN</td>\n",
       "      <td>NaN</td>\n",
       "      <td>NaN</td>\n",
       "      <td>15941.746982</td>\n",
       "      <td>14897.684916</td>\n",
       "      <td>19.12</td>\n",
       "      <td>4892.295</td>\n",
       "      <td>11108.525</td>\n",
       "      <td>22467.9875</td>\n",
       "      <td>89688.44</td>\n",
       "    </tr>\n",
       "    <tr>\n",
       "      <th>Payment Mode</th>\n",
       "      <td>5000</td>\n",
       "      <td>5</td>\n",
       "      <td>Net Banking</td>\n",
       "      <td>1010</td>\n",
       "      <td>NaN</td>\n",
       "      <td>NaN</td>\n",
       "      <td>NaN</td>\n",
       "      <td>NaN</td>\n",
       "      <td>NaN</td>\n",
       "      <td>NaN</td>\n",
       "      <td>NaN</td>\n",
       "    </tr>\n",
       "  </tbody>\n",
       "</table>\n",
       "</div>"
      ],
      "text/plain": [
       "                count unique             top  freq          mean  \\\n",
       "Order ID       5000.0    NaN             NaN   NaN       12500.5   \n",
       "Order Date       5000    730      2025-09-15    15           NaN   \n",
       "Customer Name    5000   4844   Aaryahi Madan     3           NaN   \n",
       "Region           5000      4           North  1288           NaN   \n",
       "City             5000     20        Guwahati   293           NaN   \n",
       "Category         5000     10           Books   528           NaN   \n",
       "Sub-Category     5000     50            Sofa   122           NaN   \n",
       "Product Name     5000   3835  Chair Adipisci     5           NaN   \n",
       "Quantity       5000.0    NaN             NaN   NaN        2.9926   \n",
       "Unit Price     5000.0    NaN             NaN   NaN    39760.9046   \n",
       "Discount       5000.0    NaN             NaN   NaN        10.051   \n",
       "Sales          5000.0    NaN             NaN   NaN  106733.20487   \n",
       "Profit         5000.0    NaN             NaN   NaN  15941.746982   \n",
       "Payment Mode     5000      5     Net Banking  1010           NaN   \n",
       "\n",
       "                        std      min         25%        50%          75%  \\\n",
       "Order ID        1443.520003  10001.0    11250.75    12500.5     13750.25   \n",
       "Order Date              NaN      NaN         NaN        NaN          NaN   \n",
       "Customer Name           NaN      NaN         NaN        NaN          NaN   \n",
       "Region                  NaN      NaN         NaN        NaN          NaN   \n",
       "City                    NaN      NaN         NaN        NaN          NaN   \n",
       "Category                NaN      NaN         NaN        NaN          NaN   \n",
       "Sub-Category            NaN      NaN         NaN        NaN          NaN   \n",
       "Product Name            NaN      NaN         NaN        NaN          NaN   \n",
       "Quantity           1.413133      1.0         2.0        3.0          4.0   \n",
       "Unit Price     22831.783946    222.0    20312.25    39459.5     59721.75   \n",
       "Discount           7.084662      0.0         5.0       10.0         15.0   \n",
       "Sales          85108.208202    264.1  39766.5375  83080.325  156968.5875   \n",
       "Profit         14897.684916    19.12    4892.295  11108.525   22467.9875   \n",
       "Payment Mode            NaN      NaN         NaN        NaN          NaN   \n",
       "\n",
       "                    max  \n",
       "Order ID        15000.0  \n",
       "Order Date          NaN  \n",
       "Customer Name       NaN  \n",
       "Region              NaN  \n",
       "City                NaN  \n",
       "Category            NaN  \n",
       "Sub-Category        NaN  \n",
       "Product Name        NaN  \n",
       "Quantity            5.0  \n",
       "Unit Price      79998.0  \n",
       "Discount           20.0  \n",
       "Sales          398485.0  \n",
       "Profit         89688.44  \n",
       "Payment Mode        NaN  "
      ]
     },
     "execution_count": 14,
     "metadata": {},
     "output_type": "execute_result"
    }
   ],
   "source": [
    "# Contoh  df.describe(include='all').T\n",
    "import pandas as pd\n",
    "df = pd.read_csv(\"Ecommerce_Data_2024-2025.csv\")\n",
    "df.describe(include='all').T"
   ]
  },
  {
   "cell_type": "code",
   "execution_count": null,
   "id": "1527cd5d",
   "metadata": {},
   "outputs": [
    {
     "data": {
      "text/html": [
       "<div>\n",
       "<style scoped>\n",
       "    .dataframe tbody tr th:only-of-type {\n",
       "        vertical-align: middle;\n",
       "    }\n",
       "\n",
       "    .dataframe tbody tr th {\n",
       "        vertical-align: top;\n",
       "    }\n",
       "\n",
       "    .dataframe thead th {\n",
       "        text-align: right;\n",
       "    }\n",
       "</style>\n",
       "<table border=\"1\" class=\"dataframe\">\n",
       "  <thead>\n",
       "    <tr style=\"text-align: right;\">\n",
       "      <th></th>\n",
       "      <th>Order ID</th>\n",
       "      <th>Order Date</th>\n",
       "      <th>Customer Name</th>\n",
       "      <th>Region</th>\n",
       "      <th>City</th>\n",
       "      <th>Category</th>\n",
       "      <th>Sub-Category</th>\n",
       "      <th>Product Name</th>\n",
       "      <th>Quantity</th>\n",
       "      <th>Unit Price</th>\n",
       "      <th>Discount</th>\n",
       "      <th>Sales</th>\n",
       "      <th>Profit</th>\n",
       "      <th>Payment Mode</th>\n",
       "    </tr>\n",
       "  </thead>\n",
       "  <tbody>\n",
       "    <tr>\n",
       "      <th>2297</th>\n",
       "      <td>12298</td>\n",
       "      <td>2025-02-01</td>\n",
       "      <td>Misha Andra</td>\n",
       "      <td>North</td>\n",
       "      <td>Amritsar</td>\n",
       "      <td>Furniture</td>\n",
       "      <td>Table</td>\n",
       "      <td>Table Voluptate</td>\n",
       "      <td>1</td>\n",
       "      <td>51339</td>\n",
       "      <td>0</td>\n",
       "      <td>51339.0</td>\n",
       "      <td>9920.67</td>\n",
       "      <td>Net Banking</td>\n",
       "    </tr>\n",
       "    <tr>\n",
       "      <th>2506</th>\n",
       "      <td>12507</td>\n",
       "      <td>2025-02-15</td>\n",
       "      <td>Biju Kalita</td>\n",
       "      <td>South</td>\n",
       "      <td>Chennai</td>\n",
       "      <td>Books</td>\n",
       "      <td>Non-Fiction</td>\n",
       "      <td>Non-Fiction Accusantium</td>\n",
       "      <td>3</td>\n",
       "      <td>36092</td>\n",
       "      <td>20</td>\n",
       "      <td>86620.8</td>\n",
       "      <td>5149.08</td>\n",
       "      <td>Net Banking</td>\n",
       "    </tr>\n",
       "    <tr>\n",
       "      <th>4400</th>\n",
       "      <td>14401</td>\n",
       "      <td>2024-04-24</td>\n",
       "      <td>Madhav Mand</td>\n",
       "      <td>West</td>\n",
       "      <td>Mumbai</td>\n",
       "      <td>Beauty</td>\n",
       "      <td>Lipstick</td>\n",
       "      <td>Lipstick Voluptatum</td>\n",
       "      <td>1</td>\n",
       "      <td>72591</td>\n",
       "      <td>20</td>\n",
       "      <td>58072.8</td>\n",
       "      <td>9932.48</td>\n",
       "      <td>COD</td>\n",
       "    </tr>\n",
       "    <tr>\n",
       "      <th>341</th>\n",
       "      <td>10342</td>\n",
       "      <td>2024-08-27</td>\n",
       "      <td>Dharmajan Goel</td>\n",
       "      <td>East</td>\n",
       "      <td>Bhubaneswar</td>\n",
       "      <td>Sports</td>\n",
       "      <td>Football</td>\n",
       "      <td>Football Fugiat</td>\n",
       "      <td>3</td>\n",
       "      <td>28696</td>\n",
       "      <td>20</td>\n",
       "      <td>68870.4</td>\n",
       "      <td>11659.91</td>\n",
       "      <td>UPI</td>\n",
       "    </tr>\n",
       "    <tr>\n",
       "      <th>327</th>\n",
       "      <td>10328</td>\n",
       "      <td>2024-09-19</td>\n",
       "      <td>Taran Ganesan</td>\n",
       "      <td>South</td>\n",
       "      <td>Hyderabad</td>\n",
       "      <td>Clothing</td>\n",
       "      <td>Men's Wear</td>\n",
       "      <td>Men's Wear Debitis</td>\n",
       "      <td>4</td>\n",
       "      <td>58878</td>\n",
       "      <td>20</td>\n",
       "      <td>188409.6</td>\n",
       "      <td>41098.05</td>\n",
       "      <td>Credit Card</td>\n",
       "    </tr>\n",
       "  </tbody>\n",
       "</table>\n",
       "</div>"
      ],
      "text/plain": [
       "      Order ID  Order Date   Customer Name Region         City   Category  \\\n",
       "2297     12298  2025-02-01     Misha Andra  North     Amritsar  Furniture   \n",
       "2506     12507  2025-02-15     Biju Kalita  South      Chennai      Books   \n",
       "4400     14401  2024-04-24     Madhav Mand   West       Mumbai     Beauty   \n",
       "341      10342  2024-08-27  Dharmajan Goel   East  Bhubaneswar     Sports   \n",
       "327      10328  2024-09-19   Taran Ganesan  South    Hyderabad   Clothing   \n",
       "\n",
       "     Sub-Category             Product Name  Quantity  Unit Price  Discount  \\\n",
       "2297        Table          Table Voluptate         1       51339         0   \n",
       "2506  Non-Fiction  Non-Fiction Accusantium         3       36092        20   \n",
       "4400     Lipstick      Lipstick Voluptatum         1       72591        20   \n",
       "341      Football          Football Fugiat         3       28696        20   \n",
       "327    Men's Wear       Men's Wear Debitis         4       58878        20   \n",
       "\n",
       "         Sales    Profit Payment Mode  \n",
       "2297   51339.0   9920.67  Net Banking  \n",
       "2506   86620.8   5149.08  Net Banking  \n",
       "4400   58072.8   9932.48          COD  \n",
       "341    68870.4  11659.91          UPI  \n",
       "327   188409.6  41098.05  Credit Card  "
      ]
     },
     "execution_count": 15,
     "metadata": {},
     "output_type": "execute_result"
    }
   ],
   "source": [
    "# Contoh df.sample()\n",
    "# mengambil kolom acak sebanyak bilangan input\n",
    "import pandas as pd\n",
    "df = pd.read_csv(\"Ecommerce_Data_2024-2025.csv\")\n",
    "df.sample(5)"
   ]
  },
  {
   "cell_type": "code",
   "execution_count": null,
   "id": "38c8fb18",
   "metadata": {},
   "outputs": [
    {
     "data": {
      "text/plain": [
       "Index               132\n",
       "Order ID          40000\n",
       "Order Date       295000\n",
       "Customer Name    306405\n",
       "Region           267503\n",
       "City             283031\n",
       "Category         282477\n",
       "Sub-Category     283421\n",
       "Product Name     320728\n",
       "Quantity          40000\n",
       "Unit Price        40000\n",
       "Discount          40000\n",
       "Sales             40000\n",
       "Profit            40000\n",
       "Payment Mode     283053\n",
       "dtype: int64"
      ]
     },
     "execution_count": 16,
     "metadata": {},
     "output_type": "execute_result"
    }
   ],
   "source": [
    "# Contoh df.memory_usage(deep=True)\n",
    "import pandas as pd\n",
    "df = pd.read_csv(\"Ecommerce_Data_2024-2025.csv\")\n",
    "df.memory_usage(deep=True)"
   ]
  },
  {
   "cell_type": "markdown",
   "id": "0e8f8964",
   "metadata": {},
   "source": [
    "3) Cek nilai duplikat & nilai unik\n",
    "\n",
    "Cari baris yang identik dan jumlah kategori unik tiap kolom.\n",
    "\n",
    "df.duplicated().sum()          # jumlah baris duplikat\n",
    "df[df.duplicated()]            # lihat contoh baris duplikat\n",
    "\n",
    "# Hapus duplikat (opsional)\n",
    "df = df.drop_duplicates()\n",
    "\n",
    "# Unique values\n",
    "df['kolom_kategori'].nunique()\n",
    "df['kolom_kategori'].unique()\n",
    "df['kolom_kategori'].value_counts()\n",
    "\n",
    "Jika duplikat dinilai berdasarkan subset kolom: \n",
    "df.duplicated(subset=['colA','colB'])"
   ]
  },
  {
   "cell_type": "code",
   "execution_count": null,
   "id": "2f3fd274",
   "metadata": {},
   "outputs": [
    {
     "data": {
      "text/html": [
       "<div>\n",
       "<style scoped>\n",
       "    .dataframe tbody tr th:only-of-type {\n",
       "        vertical-align: middle;\n",
       "    }\n",
       "\n",
       "    .dataframe tbody tr th {\n",
       "        vertical-align: top;\n",
       "    }\n",
       "\n",
       "    .dataframe thead th {\n",
       "        text-align: right;\n",
       "    }\n",
       "</style>\n",
       "<table border=\"1\" class=\"dataframe\">\n",
       "  <thead>\n",
       "    <tr style=\"text-align: right;\">\n",
       "      <th></th>\n",
       "      <th>Order ID</th>\n",
       "      <th>Order Date</th>\n",
       "      <th>Customer Name</th>\n",
       "      <th>Region</th>\n",
       "      <th>City</th>\n",
       "      <th>Category</th>\n",
       "      <th>Sub-Category</th>\n",
       "      <th>Product Name</th>\n",
       "      <th>Quantity</th>\n",
       "      <th>Unit Price</th>\n",
       "      <th>Discount</th>\n",
       "      <th>Sales</th>\n",
       "      <th>Profit</th>\n",
       "      <th>Payment Mode</th>\n",
       "    </tr>\n",
       "  </thead>\n",
       "  <tbody>\n",
       "  </tbody>\n",
       "</table>\n",
       "</div>"
      ],
      "text/plain": [
       "Empty DataFrame\n",
       "Columns: [Order ID, Order Date, Customer Name, Region, City, Category, Sub-Category, Product Name, Quantity, Unit Price, Discount, Sales, Profit, Payment Mode]\n",
       "Index: []"
      ]
     },
     "execution_count": 18,
     "metadata": {},
     "output_type": "execute_result"
    }
   ],
   "source": [
    "import pandas as pd\n",
    "df = pd.read_csv(\"Ecommerce_Data_2024-2025.csv\")\n",
    "df.duplicated().sum() #berhubung data yang kami gunakan sudah bersih, maka output adalah 0 \n",
    "df[df.duplicated()]"
   ]
  },
  {
   "cell_type": "code",
   "execution_count": null,
   "id": "4be518b2",
   "metadata": {},
   "outputs": [
    {
     "data": {
      "text/plain": [
       "5000"
      ]
     },
     "execution_count": 21,
     "metadata": {},
     "output_type": "execute_result"
    }
   ],
   "source": [
    "# Contoh Nilai Unik\n",
    "import pandas as pd\n",
    "df = pd.read_csv(\"Ecommerce_Data_2024-2025.csv\")\n",
    "df['Order ID'].nunique()"
   ]
  },
  {
   "cell_type": "code",
   "execution_count": null,
   "id": "0c72bf16",
   "metadata": {},
   "outputs": [
    {
     "data": {
      "text/plain": [
       "array([10001, 10002, 10003, ..., 14998, 14999, 15000], dtype=int64)"
      ]
     },
     "execution_count": 22,
     "metadata": {},
     "output_type": "execute_result"
    }
   ],
   "source": [
    "# Contoh Nilai Unik\n",
    "import pandas as pd\n",
    "df = pd.read_csv(\"Ecommerce_Data_2024-2025.csv\")\n",
    "df['Order ID'].unique()"
   ]
  },
  {
   "cell_type": "code",
   "execution_count": null,
   "id": "bc4aa547",
   "metadata": {},
   "outputs": [
    {
     "data": {
      "text/plain": [
       "Order ID\n",
       "10001    1\n",
       "13331    1\n",
       "13338    1\n",
       "13337    1\n",
       "13336    1\n",
       "        ..\n",
       "11667    1\n",
       "11666    1\n",
       "11665    1\n",
       "11664    1\n",
       "15000    1\n",
       "Name: count, Length: 5000, dtype: int64"
      ]
     },
     "execution_count": 24,
     "metadata": {},
     "output_type": "execute_result"
    }
   ],
   "source": [
    "# Contoh Nilai Unik\n",
    "import pandas as pd\n",
    "df = pd.read_csv(\"Ecommerce_Data_2024-2025.csv\")\n",
    "df['Order ID'].value_counts()"
   ]
  },
  {
   "cell_type": "code",
   "execution_count": null,
   "id": "73673f69",
   "metadata": {},
   "outputs": [
    {
     "data": {
      "text/plain": [
       "0       False\n",
       "1       False\n",
       "2       False\n",
       "3       False\n",
       "4       False\n",
       "        ...  \n",
       "4995    False\n",
       "4996    False\n",
       "4997    False\n",
       "4998    False\n",
       "4999    False\n",
       "Length: 5000, dtype: bool"
      ]
     },
     "execution_count": 26,
     "metadata": {},
     "output_type": "execute_result"
    }
   ],
   "source": [
    "# Contoh Nilai Unik\n",
    "import pandas as pd\n",
    "df = pd.read_csv(\"Ecommerce_Data_2024-2025.csv\")\n",
    "df.duplicated(subset=['Order ID','Order Date'])"
   ]
  },
  {
   "cell_type": "markdown",
   "id": "55ba8050",
   "metadata": {},
   "source": [
    "4) Visualisasikan jumlah nilai unik (kategori)\n",
    "\n",
    "Gunakan bar plot / countplot untuk melihat distribusi kategori."
   ]
  },
  {
   "cell_type": "code",
   "execution_count": 34,
   "id": "2e4e5ec1",
   "metadata": {},
   "outputs": [
    {
     "data": {
      "image/png": "[encoded data removed]",
      "text/plain": [
       "<Figure size 600x400 with 1 Axes>"
      ]
     },
     "metadata": {},
     "output_type": "display_data"
    },
    {
     "data": {
      "image/png": "[encoded data removed]",
      "text/plain": [
       "<Figure size 1000x600 with 1 Axes>"
      ]
     },
     "metadata": {},
     "output_type": "display_data"
    },
    {
     "data": {
      "image/png": "[encoded data removed]",
      "text/plain": [
       "<Figure size 600x400 with 1 Axes>"
      ]
     },
     "metadata": {},
     "output_type": "display_data"
    }
   ],
   "source": [
    "import seaborn as sns\n",
    "import matplotlib.pyplot as plt\n",
    "\n",
    "# 1) Distribusi Region\n",
    "plt.figure(figsize=(6,4))\n",
    "sns.countplot(data=df, x=\"Region\", order=df[\"Region\"].value_counts().index)\n",
    "plt.title(\"Distribusi Region\")\n",
    "plt.ylabel(\"Jumlah Pesanan\")\n",
    "plt.xlabel(\"Region\")\n",
    "plt.show()\n",
    "\n",
    "# 2) Distribusi City (Top 15 kota)\n",
    "plt.figure(figsize=(10,6))\n",
    "sns.countplot(data=df, y=\"City\", order=df[\"City\"].value_counts().head(15).index)\n",
    "plt.title(\"Distribusi 15 Kota dengan Pesanan Terbanyak\")\n",
    "plt.xlabel(\"Jumlah Pesanan\")\n",
    "plt.ylabel(\"City\")\n",
    "plt.show()\n",
    "\n",
    "# 3) Distribusi Category\n",
    "plt.figure(figsize=(6,4))\n",
    "sns.countplot(data=df, x=\"Category\", order=df[\"Category\"].value_counts().index)\n",
    "plt.title(\"Distribusi Category Produk\")\n",
    "plt.ylabel(\"Jumlah Pesanan\")\n",
    "plt.xlabel(\"Category\")\n",
    "plt.show()\n"
   ]
  },
  {
   "cell_type": "markdown",
   "id": "c7905d1a",
   "metadata": {},
   "source": [
    "5) Menemukan null values\n",
    "Lihat berapa banyak missing per kolom dan pola missing pada baris.\n",
    "\n",
    "df.isnull().sum()            # jumlah null per kolom\n",
    "(df.isnull().mean()*100).round(2)  # % null per kolom\n",
    "df[df.isnull().any(axis=1)].head() # baris yang punya minimal 1 null\n",
    "\n",
    "# Visual: heatmap sederhana\n",
    "plt.figure(figsize=(10,4))\n",
    "sns.heatmap(df.isnull(), cbar=False)"
   ]
  },
  {
   "cell_type": "code",
   "execution_count": null,
   "id": "aa7c04d2",
   "metadata": {},
   "outputs": [
    {
     "data": {
      "text/plain": [
       "Order ID         0\n",
       "Order Date       0\n",
       "Customer Name    0\n",
       "Region           0\n",
       "City             0\n",
       "Category         0\n",
       "Sub-Category     0\n",
       "Product Name     0\n",
       "Quantity         0\n",
       "Unit Price       0\n",
       "Discount         0\n",
       "Sales            0\n",
       "Profit           0\n",
       "Payment Mode     0\n",
       "dtype: int64"
      ]
     },
     "execution_count": 35,
     "metadata": {},
     "output_type": "execute_result"
    }
   ],
   "source": [
    "#Contoh jumlah null per kolom\n",
    "import pandas as pd\n",
    "df = pd.read_csv(\"Ecommerce_Data_2024-2025.csv\")\n",
    "df.isnull().sum()"
   ]
  },
  {
   "cell_type": "code",
   "execution_count": null,
   "id": "f0842b67",
   "metadata": {},
   "outputs": [
    {
     "data": {
      "text/plain": [
       "Order ID         0.0\n",
       "Order Date       0.0\n",
       "Customer Name    0.0\n",
       "Region           0.0\n",
       "City             0.0\n",
       "Category         0.0\n",
       "Sub-Category     0.0\n",
       "Product Name     0.0\n",
       "Quantity         0.0\n",
       "Unit Price       0.0\n",
       "Discount         0.0\n",
       "Sales            0.0\n",
       "Profit           0.0\n",
       "Payment Mode     0.0\n",
       "dtype: float64"
      ]
     },
     "execution_count": 36,
     "metadata": {},
     "output_type": "execute_result"
    }
   ],
   "source": [
    "# Cek modulo jumlah null \n",
    "import pandas as pd\n",
    "df = pd.read_csv(\"Ecommerce_Data_2024-2025.csv\")\n",
    "(df.isnull().mean()*100).round(2) "
   ]
  },
  {
   "cell_type": "code",
   "execution_count": null,
   "id": "f43b58d0",
   "metadata": {},
   "outputs": [
    {
     "data": {
      "text/html": [
       "<div>\n",
       "<style scoped>\n",
       "    .dataframe tbody tr th:only-of-type {\n",
       "        vertical-align: middle;\n",
       "    }\n",
       "\n",
       "    .dataframe tbody tr th {\n",
       "        vertical-align: top;\n",
       "    }\n",
       "\n",
       "    .dataframe thead th {\n",
       "        text-align: right;\n",
       "    }\n",
       "</style>\n",
       "<table border=\"1\" class=\"dataframe\">\n",
       "  <thead>\n",
       "    <tr style=\"text-align: right;\">\n",
       "      <th></th>\n",
       "      <th>Order ID</th>\n",
       "      <th>Order Date</th>\n",
       "      <th>Customer Name</th>\n",
       "      <th>Region</th>\n",
       "      <th>City</th>\n",
       "      <th>Category</th>\n",
       "      <th>Sub-Category</th>\n",
       "      <th>Product Name</th>\n",
       "      <th>Quantity</th>\n",
       "      <th>Unit Price</th>\n",
       "      <th>Discount</th>\n",
       "      <th>Sales</th>\n",
       "      <th>Profit</th>\n",
       "      <th>Payment Mode</th>\n",
       "    </tr>\n",
       "  </thead>\n",
       "  <tbody>\n",
       "  </tbody>\n",
       "</table>\n",
       "</div>"
      ],
      "text/plain": [
       "Empty DataFrame\n",
       "Columns: [Order ID, Order Date, Customer Name, Region, City, Category, Sub-Category, Product Name, Quantity, Unit Price, Discount, Sales, Profit, Payment Mode]\n",
       "Index: []"
      ]
     },
     "execution_count": 4,
     "metadata": {},
     "output_type": "execute_result"
    }
   ],
   "source": [
    "# Cek baris yang memiliki null >= 1\n",
    "import pandas as pd\n",
    "df = pd.read_csv(\"Ecommerce_Data_2024-2025.csv\")\n",
    "df[df.isnull().any(axis=1)].head() "
   ]
  },
  {
   "cell_type": "markdown",
   "id": "f79317b3",
   "metadata": {},
   "source": [
    "6) Replace semua null values (strategi imputasi)\n",
    "\n",
    "Strategi umum: hapus (drop), isi dengan mean/median/mode, isi kategori dengan 'Unknown', forward/backfill."
   ]
  },
  {
   "cell_type": "code",
   "execution_count": 9,
   "id": "1706ef71",
   "metadata": {},
   "outputs": [
    {
     "name": "stdout",
     "output_type": "stream",
     "text": [
      "Index(['Order ID', 'Quantity', 'Unit Price', 'Discount', 'Sales', 'Profit'], dtype='object')\n",
      "Index(['Order Date', 'Customer Name', 'Region', 'City', 'Category',\n",
      "       'Sub-Category', 'Product Name', 'Payment Mode'],\n",
      "      dtype='object')\n"
     ]
    }
   ],
   "source": [
    "# Drop baris yang semua kolomnya null\n",
    "df.dropna(how='all', inplace=True)\n",
    "\n",
    "# Pisahkan numeric & kategori\n",
    "num_cols = df.select_dtypes(include='number').columns\n",
    "cat_cols = df.select_dtypes(include='object').columns\n",
    "\n",
    "# Isi numeric dengan median\n",
    "df[num_cols] = df[num_cols].fillna(df[num_cols].median())\n",
    "\n",
    "# Isi kategori dengan mode\n",
    "for c in cat_cols:\n",
    "    df[c] = df[c].fillna(df[c].mode().iloc[0] if not df[c].mode().empty else \"Unknown\")\n",
    "\n",
    "print(num_cols)\n",
    "print(cat_cols)"
   ]
  },
  {
   "cell_type": "markdown",
   "id": "cff2c438",
   "metadata": {},
   "source": [
    "7) Mengetahui & mengubah tipe data\n",
    "\n",
    "Penting untuk analisis yang benar dan efisiensi memori"
   ]
  },
  {
   "cell_type": "code",
   "execution_count": 16,
   "id": "27ce0c70",
   "metadata": {},
   "outputs": [
    {
     "name": "stdout",
     "output_type": "stream",
     "text": [
      "0      2024-10-19\n",
      "1      2025-08-30\n",
      "2      2023-11-04\n",
      "3      2025-05-23\n",
      "4      2025-01-19\n",
      "          ...    \n",
      "4995   2024-06-25\n",
      "4996   2024-12-22\n",
      "4997   2025-04-15\n",
      "4998   2024-07-08\n",
      "4999   2024-02-04\n",
      "Name: Order Date, Length: 5000, dtype: datetime64[ns]\n",
      "0             Books\n",
      "1         Groceries\n",
      "2           Kitchen\n",
      "3         Groceries\n",
      "4          Clothing\n",
      "           ...     \n",
      "4995          Books\n",
      "4996           Toys\n",
      "4997         Beauty\n",
      "4998    Electronics\n",
      "4999       Clothing\n",
      "Name: Category, Length: 5000, dtype: category\n",
      "Categories (10, object): ['Beauty', 'Books', 'Clothing', 'Electronics', ..., 'Home Decor', 'Kitchen', 'Sports', 'Toys']\n",
      "0       South\n",
      "1       North\n",
      "2        East\n",
      "3        East\n",
      "4        West\n",
      "        ...  \n",
      "4995     East\n",
      "4996    North\n",
      "4997    South\n",
      "4998     East\n",
      "4999     West\n",
      "Name: Region, Length: 5000, dtype: category\n",
      "Categories (4, object): ['East', 'North', 'South', 'West']\n"
     ]
    }
   ],
   "source": [
    "import pandas as pd\n",
    "df=pd.read_csv(\"Ecommerce_Data_2024-2025.csv\")\n",
    "\n",
    "# Ubah Order Date jadi datetime\n",
    "df[\"Order Date\"] = pd.to_datetime(df[\"Order Date\"], errors=\"coerce\")\n",
    "\n",
    "print(df[\"Order Date\"])\n",
    "# Ubah Category & Region jadi kategori\n",
    "df[\"Category\"] = df[\"Category\"].astype(\"category\")\n",
    "df[\"Region\"] = df[\"Region\"].astype(\"category\")\n",
    "\n",
    "print(df[\"Category\"])\n",
    "print(df[\"Region\"])"
   ]
  },
  {
   "cell_type": "markdown",
   "id": "af32402e",
   "metadata": {},
   "source": [
    "8) Filter data\n",
    "\n",
    "Ambil subset berdasarkan kondisi (boolean indexing) atau query."
   ]
  },
  {
   "cell_type": "code",
   "execution_count": null,
   "id": "a86bf360",
   "metadata": {},
   "outputs": [
    {
     "name": "stdout",
     "output_type": "stream",
     "text": [
      "     Order ID Order Date   Customer Name Region        City   Category  \\\n",
      "1       10002 2025-08-30     Advik Desai  North       Delhi  Groceries   \n",
      "8       10009 2025-03-07     Arhaan Vala  North      Jaipur  Groceries   \n",
      "21      10022 2024-03-16    Kashvi Ratti  North     Lucknow  Groceries   \n",
      "29      10030 2024-04-22  Adira Seshadri  North  Chandigarh  Groceries   \n",
      "122     10123 2025-06-23       Heer Lata  North       Delhi  Groceries   \n",
      "\n",
      "    Sub-Category     Product Name  Quantity  Unit Price  Discount      Sales  \\\n",
      "1           Rice        Rice Nemo         1       42165        20   33732.00   \n",
      "8         Spices  Spices Expedita         1       40834        20   32667.20   \n",
      "21         Wheat      Wheat Natus         5       26762        15  113738.50   \n",
      "29         Sugar  Sugar Excepturi         5       79453        15  337675.25   \n",
      "122       Spices       Spices Non         4       79276        20  253683.20   \n",
      "\n",
      "       Profit Payment Mode  \n",
      "1     6299.66   Debit Card  \n",
      "8     3700.89  Credit Card  \n",
      "21   27267.31  Credit Card  \n",
      "29   80309.87   Debit Card  \n",
      "122  28531.58          UPI  \n"
     ]
    }
   ],
   "source": [
    "# ambil transaksi dari North Region dengan Category “Groceries”.\n",
    "north_groceries = df[(df[\"Region\"]==\"North\") & (df[\"Category\"]==\"Groceries\")]\n",
    "print(north_groceries.head())"
   ]
  },
  {
   "cell_type": "markdown",
   "id": "162c106e",
   "metadata": {},
   "source": [
    "9) Create a box plot\n",
    "Box plot bantu deteksi outlier dan lihat distribusi (median, IQR)."
   ]
  },
  {
   "cell_type": "code",
   "execution_count": 22,
   "id": "25c952a5",
   "metadata": {},
   "outputs": [
    {
     "data": {
      "image/png": "[encoded data removed]",
      "text/plain": [
       "<Figure size 600x400 with 1 Axes>"
      ]
     },
     "metadata": {},
     "output_type": "display_data"
    },
    {
     "data": {
      "text/plain": [
       "<Figure size 800x500 with 0 Axes>"
      ]
     },
     "metadata": {},
     "output_type": "display_data"
    },
    {
     "data": {
      "image/png": "[encoded data removed]",
      "text/plain": [
       "<Figure size 1000x600 with 1 Axes>"
      ]
     },
     "metadata": {},
     "output_type": "display_data"
    }
   ],
   "source": [
    "# Contoh boxplot quantity\n",
    "import matplotlib.pyplot as plt\n",
    "import seaborn as sns\n",
    "\n",
    "plt.figure(figsize=(6,4))\n",
    "sns.boxplot(x=df['Quantity'])\n",
    "plt.title(\"Boxplot Quantity\")\n",
    "\n",
    "# Boxplot untuk beberapa kolom numerik\n",
    "plt.figure(figsize=(8,5))\n",
    "df[['Quantity','Unit Price','Discount','Sales','Profit']].plot.box(figsize=(10,6))\n",
    "plt.title(\"Boxplot Beberapa Kolom Numerik\")\n",
    "plt.show()\n"
   ]
  },
  {
   "cell_type": "markdown",
   "id": "ea71ba78",
   "metadata": {},
   "source": [
    "10) Correlation\n",
    "\n",
    "Lihat hubungan antar variabel numerik; buat heatmap untuk visual."
   ]
  },
  {
   "cell_type": "code",
   "execution_count": 23,
   "id": "35bf6d8b",
   "metadata": {},
   "outputs": [
    {
     "data": {
      "image/png": "[encoded data removed]",
      "text/plain": [
       "<Figure size 640x480 with 2 Axes>"
      ]
     },
     "metadata": {},
     "output_type": "display_data"
    }
   ],
   "source": [
    "corr = df[[\"Quantity\", \"Unit Price\", \"Discount\", \"Sales\", \"Profit\"]].corr()\n",
    "sns.heatmap(corr, annot=True, cmap=\"coolwarm\")\n",
    "plt.title(\"Correlation Heatmap\")\n",
    "plt.show()"
   ]
  }
 ],
 "metadata": {
  "kernelspec": {
   "display_name": "base",
   "language": "python",
   "name": "python3"
  },
  "language_info": {
   "codemirror_mode": {
    "name": "ipython",
    "version": 3
   },
   "file_extension": ".py",
   "mimetype": "text/x-python",
   "name": "python",
   "nbconvert_exporter": "python",
   "pygments_lexer": "ipython3",
   "version": "3.12.4"
  }
 },
 "nbformat": 4,
 "nbformat_minor": 5
}
